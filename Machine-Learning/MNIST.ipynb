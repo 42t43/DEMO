{
 "cells": [
  {
   "cell_type": "markdown",
   "metadata": {
    "colab_type": "text",
    "id": "Mzks8cvJ-B_w"
   },
   "source": [
    "# MNIST_DEMO"
   ]
  },
  {
   "cell_type": "markdown",
   "metadata": {
    "colab_type": "text",
    "id": "b9kajVaR9tXz"
   },
   "source": [
    "### Importing libraries"
   ]
  },
  {
   "cell_type": "code",
   "execution_count": 1,
   "metadata": {
    "colab": {},
    "colab_type": "code",
    "id": "hlCK2tOy9Ca9"
   },
   "outputs": [],
   "source": [
    "import tensorflow as tf\n",
    "import matplotlib.pyplot as plt\n",
    "import numpy as np"
   ]
  },
  {
   "cell_type": "markdown",
   "metadata": {
    "colab_type": "text",
    "id": "zCTSXeQC-E94"
   },
   "source": [
    "### Collect data"
   ]
  },
  {
   "cell_type": "code",
   "execution_count": 2,
   "metadata": {
    "colab": {
     "base_uri": "https://localhost:8080/",
     "height": 71
    },
    "colab_type": "code",
    "executionInfo": {
     "elapsed": 3502,
     "status": "ok",
     "timestamp": 1565097761455,
     "user": {
      "displayName": "42 45",
      "photoUrl": "",
      "userId": "09640643992277259906"
     },
     "user_tz": -540
    },
    "id": "9V61_FKt9p4v",
    "outputId": "4e608124-7870-4167-b56e-f388a7b333ba"
   },
   "outputs": [],
   "source": [
    "(x_train, y_train), (x_test, y_test) = tf.keras.datasets.mnist.load_data()"
   ]
  },
  {
   "cell_type": "code",
   "execution_count": 3,
   "metadata": {
    "colab": {
     "base_uri": "https://localhost:8080/",
     "height": 286
    },
    "colab_type": "code",
    "executionInfo": {
     "elapsed": 3896,
     "status": "ok",
     "timestamp": 1565097761851,
     "user": {
      "displayName": "42 45",
      "photoUrl": "",
      "userId": "09640643992277259906"
     },
     "user_tz": -540
    },
    "id": "FleCZGU_IfeO",
    "outputId": "670f1b11-e18b-484b-8905-9ffd7a9062f2"
   },
   "outputs": [
    {
     "data": {
      "text/plain": [
       "<matplotlib.image.AxesImage at 0x13340ebe0>"
      ]
     },
     "execution_count": 3,
     "metadata": {},
     "output_type": "execute_result"
    },
    {
     "data": {
      "image/png": "[encoded data removed]",
      "text/plain": [
       "<Figure size 432x288 with 1 Axes>"
      ]
     },
     "metadata": {
      "needs_background": "light"
     },
     "output_type": "display_data"
    }
   ],
   "source": [
    "plt.imshow(x_train[0])"
   ]
  },
  {
   "cell_type": "code",
   "execution_count": null,
   "metadata": {
    "colab": {
     "base_uri": "https://localhost:8080/",
     "height": 1000
    },
    "colab_type": "code",
    "executionInfo": {
     "elapsed": 3892,
     "status": "ok",
     "timestamp": 1565097761852,
     "user": {
      "displayName": "42 45",
      "photoUrl": "",
      "userId": "09640643992277259906"
     },
     "user_tz": -540
    },
    "id": "TzNiCOfvI3Ln",
    "outputId": "35f37cf9-69dd-421b-bb48-73f210c831b3"
   },
   "outputs": [],
   "source": [
    "x_train[0]"
   ]
  },
  {
   "cell_type": "code",
   "execution_count": null,
   "metadata": {
    "colab": {
     "base_uri": "https://localhost:8080/",
     "height": 34
    },
    "colab_type": "code",
    "executionInfo": {
     "elapsed": 14981,
     "status": "ok",
     "timestamp": 1565097817000,
     "user": {
      "displayName": "42 45",
      "photoUrl": "",
      "userId": "09640643992277259906"
     },
     "user_tz": -540
    },
    "id": "31dwLgy3GSPv",
    "outputId": "0490dafd-92be-4dbb-a812-dbf59e0037d0"
   },
   "outputs": [],
   "source": [
    "x_train.shape"
   ]
  },
  {
   "cell_type": "code",
   "execution_count": 4,
   "metadata": {
    "colab": {},
    "colab_type": "code",
    "id": "fx79Zszh-oCo"
   },
   "outputs": [],
   "source": [
    "# Normalizing dataset\n",
    "x_train = tf.keras.utils.normalize(x_train, axis=1)\n",
    "x_test = tf.keras.utils.normalize(x_test, axis=1)"
   ]
  },
  {
   "cell_type": "code",
   "execution_count": 5,
   "metadata": {
    "colab": {
     "base_uri": "https://localhost:8080/",
     "height": 286
    },
    "colab_type": "code",
    "executionInfo": {
     "elapsed": 1352,
     "status": "ok",
     "timestamp": 1565097857952,
     "user": {
      "displayName": "42 45",
      "photoUrl": "",
      "userId": "09640643992277259906"
     },
     "user_tz": -540
    },
    "id": "XjJx-Fi8GdbX",
    "outputId": "ca1a86e0-fc46-4ec7-fe91-317b5c89f18f"
   },
   "outputs": [
    {
     "data": {
      "text/plain": [
       "<matplotlib.image.AxesImage at 0x1334af470>"
      ]
     },
     "execution_count": 5,
     "metadata": {},
     "output_type": "execute_result"
    },
    {
     "data": {
      "image/png": "[encoded data removed]",
      "text/plain": [
       "<Figure size 432x288 with 1 Axes>"
      ]
     },
     "metadata": {
      "needs_background": "light"
     },
     "output_type": "display_data"
    }
   ],
   "source": [
    "plt.imshow(x_train[0])"
   ]
  },
  {
   "cell_type": "markdown",
   "metadata": {
    "colab_type": "text",
    "id": "0d5RQWaT-MpC"
   },
   "source": [
    "### Build model"
   ]
  },
  {
   "cell_type": "code",
   "execution_count": 9,
   "metadata": {
    "colab": {
     "base_uri": "https://localhost:8080/",
     "height": 105
    },
    "colab_type": "code",
    "executionInfo": {
     "elapsed": 4942,
     "status": "ok",
     "timestamp": 1565097762906,
     "user": {
      "displayName": "42 45",
      "photoUrl": "",
      "userId": "09640643992277259906"
     },
     "user_tz": -540
    },
    "id": "u73pgwK1_bgH",
    "outputId": "d27d7603-1836-4378-c10e-ee67078c3455"
   },
   "outputs": [],
   "source": [
    "model = tf.keras.models.Sequential()\n",
    "model.add(tf.keras.layers.Flatten(input_shape=(28,28))) # input layer\n",
    "model.add(tf.keras.layers.Dense(32, activation=tf.nn.relu))\n",
    "model.add(tf.keras.layers.Dense(10, activation=tf.nn.softmax)) "
   ]
  },
  {
   "cell_type": "code",
   "execution_count": 10,
   "metadata": {
    "colab": {},
    "colab_type": "code",
    "id": "NTQqaxJpAw5n"
   },
   "outputs": [],
   "source": [
    "model.compile(optimizer='adam', loss='sparse_categorical_crossentropy', metrics=['accuracy'])"
   ]
  },
  {
   "cell_type": "markdown",
   "metadata": {
    "colab_type": "text",
    "id": "Wyxm5DTd-R-j"
   },
   "source": [
    "### Train"
   ]
  },
  {
   "cell_type": "code",
   "execution_count": 11,
   "metadata": {
    "colab": {
     "base_uri": "https://localhost:8080/",
     "height": 394
    },
    "colab_type": "code",
    "executionInfo": {
     "elapsed": 57192,
     "status": "ok",
     "timestamp": 1565097815160,
     "user": {
      "displayName": "42 45",
      "photoUrl": "",
      "userId": "09640643992277259906"
     },
     "user_tz": -540
    },
    "id": "P_CHBJcMBbFh",
    "outputId": "6400b0cb-479b-4b7a-d2d1-5a3c5a7ff0cf"
   },
   "outputs": [
    {
     "name": "stdout",
     "output_type": "stream",
     "text": [
      "Train on 42000 samples, validate on 18000 samples\n",
      "Epoch 1/10\n",
      "42000/42000 [==============================] - 2s 54us/step - loss: 0.4844 - acc: 0.8747 - val_loss: 0.2835 - val_acc: 0.9178\n",
      "Epoch 2/10\n",
      "42000/42000 [==============================] - 2s 45us/step - loss: 0.2476 - acc: 0.9287 - val_loss: 0.2373 - val_acc: 0.9302\n",
      "Epoch 3/10\n",
      "42000/42000 [==============================] - 2s 46us/step - loss: 0.2042 - acc: 0.9420 - val_loss: 0.2036 - val_acc: 0.9415\n",
      "Epoch 4/10\n",
      "42000/42000 [==============================] - 2s 45us/step - loss: 0.1722 - acc: 0.9501 - val_loss: 0.1873 - val_acc: 0.9449\n",
      "Epoch 5/10\n",
      "42000/42000 [==============================] - 2s 45us/step - loss: 0.1484 - acc: 0.9564 - val_loss: 0.1713 - val_acc: 0.9501\n",
      "Epoch 6/10\n",
      "42000/42000 [==============================] - 2s 50us/step - loss: 0.1301 - acc: 0.9619 - val_loss: 0.1628 - val_acc: 0.9514\n",
      "Epoch 7/10\n",
      "42000/42000 [==============================] - 2s 54us/step - loss: 0.1165 - acc: 0.9661 - val_loss: 0.1561 - val_acc: 0.9543\n",
      "Epoch 8/10\n",
      "42000/42000 [==============================] - 2s 50us/step - loss: 0.1038 - acc: 0.9693 - val_loss: 0.1520 - val_acc: 0.9572\n",
      "Epoch 9/10\n",
      "42000/42000 [==============================] - 2s 43us/step - loss: 0.0954 - acc: 0.9720 - val_loss: 0.1489 - val_acc: 0.9567\n",
      "Epoch 10/10\n",
      "42000/42000 [==============================] - 2s 45us/step - loss: 0.0878 - acc: 0.9746 - val_loss: 0.1426 - val_acc: 0.9587\n"
     ]
    }
   ],
   "source": [
    "history = model.fit(x_train, y_train, epochs=10, validation_split=0.3)"
   ]
  },
  {
   "cell_type": "code",
   "execution_count": 12,
   "metadata": {
    "colab": {
     "base_uri": "https://localhost:8080/",
     "height": 255
    },
    "colab_type": "code",
    "executionInfo": {
     "elapsed": 57192,
     "status": "ok",
     "timestamp": 1565097815162,
     "user": {
      "displayName": "42 45",
      "photoUrl": "",
      "userId": "09640643992277259906"
     },
     "user_tz": -540
    },
    "id": "roM3we1Tv7oi",
    "outputId": "82cf7961-115a-4f3a-90c9-319ea53fb023"
   },
   "outputs": [
    {
     "name": "stdout",
     "output_type": "stream",
     "text": [
      "_________________________________________________________________\n",
      "Layer (type)                 Output Shape              Param #   \n",
      "=================================================================\n",
      "flatten_2 (Flatten)          (None, 784)               0         \n",
      "_________________________________________________________________\n",
      "dense_1 (Dense)              (None, 32)                25120     \n",
      "_________________________________________________________________\n",
      "dense_2 (Dense)              (None, 10)                330       \n",
      "=================================================================\n",
      "Total params: 25,450\n",
      "Trainable params: 25,450\n",
      "Non-trainable params: 0\n",
      "_________________________________________________________________\n"
     ]
    }
   ],
   "source": [
    "model.summary()"
   ]
  },
  {
   "cell_type": "markdown",
   "metadata": {
    "colab_type": "text",
    "id": "A-XBsCkox4ns"
   },
   "source": [
    "### Visulizing training process"
   ]
  },
  {
   "cell_type": "code",
   "execution_count": 13,
   "metadata": {
    "colab": {
     "base_uri": "https://localhost:8080/",
     "height": 34
    },
    "colab_type": "code",
    "executionInfo": {
     "elapsed": 57191,
     "status": "ok",
     "timestamp": 1565097815163,
     "user": {
      "displayName": "42 45",
      "photoUrl": "",
      "userId": "09640643992277259906"
     },
     "user_tz": -540
    },
    "id": "iL0dP2HdyEBp",
    "outputId": "f5a197eb-3d53-47b5-cda6-86d780d3015f"
   },
   "outputs": [
    {
     "data": {
      "text/plain": [
       "dict_keys(['val_loss', 'val_acc', 'loss', 'acc'])"
      ]
     },
     "execution_count": 13,
     "metadata": {},
     "output_type": "execute_result"
    }
   ],
   "source": [
    "history_dict = history.history\n",
    "history_dict.keys()"
   ]
  },
  {
   "cell_type": "code",
   "execution_count": 14,
   "metadata": {
    "colab": {
     "base_uri": "https://localhost:8080/",
     "height": 295
    },
    "colab_type": "code",
    "executionInfo": {
     "elapsed": 57705,
     "status": "ok",
     "timestamp": 1565097815679,
     "user": {
      "displayName": "42 45",
      "photoUrl": "",
      "userId": "09640643992277259906"
     },
     "user_tz": -540
    },
    "id": "Msb-lTuQyD-q",
    "outputId": "27d716dd-9500-4d5b-da01-4a79d64ec3a2"
   },
   "outputs": [
    {
     "data": {
      "image/png": "[encoded data removed]",
      "text/plain": [
       "<Figure size 432x288 with 1 Axes>"
      ]
     },
     "metadata": {
      "needs_background": "light"
     },
     "output_type": "display_data"
    }
   ],
   "source": [
    "import matplotlib.pyplot as plt\n",
    "\n",
    "acc = history_dict['acc']\n",
    "val_acc = history_dict['val_acc']\n",
    "loss = history_dict['loss']\n",
    "val_loss = history_dict['val_loss']\n",
    "\n",
    "epochs = range(1, len(acc) + 1)\n",
    "\n",
    "# \"bo\" is for \"blue dot\"\n",
    "plt.plot(epochs, loss, 'bo', label='Training loss')\n",
    "# b is for \"solid blue line\"\n",
    "plt.plot(epochs, val_loss, 'b', label='Validation loss')\n",
    "plt.title('Training and validation loss')\n",
    "plt.xlabel('Epochs')\n",
    "plt.ylabel('Loss')\n",
    "plt.legend()\n",
    "\n",
    "plt.show()"
   ]
  },
  {
   "cell_type": "markdown",
   "metadata": {
    "colab_type": "text",
    "id": "9MLRt9TNYegR"
   },
   "source": [
    "### Test"
   ]
  },
  {
   "cell_type": "code",
   "execution_count": 15,
   "metadata": {
    "colab": {
     "base_uri": "https://localhost:8080/",
     "height": 54
    },
    "colab_type": "code",
    "executionInfo": {
     "elapsed": 58177,
     "status": "ok",
     "timestamp": 1565097816157,
     "user": {
      "displayName": "42 45",
      "photoUrl": "",
      "userId": "09640643992277259906"
     },
     "user_tz": -540
    },
    "id": "30zN9pjtYeK-",
    "outputId": "db2254bb-d4df-4120-d5d9-f2fc1f8aed98"
   },
   "outputs": [
    {
     "name": "stdout",
     "output_type": "stream",
     "text": [
      "10000/10000 [==============================] - 0s 21us/step\n"
     ]
    }
   ],
   "source": [
    "val_loss, val_acc = model.evaluate(x_test, y_test)"
   ]
  },
  {
   "cell_type": "markdown",
   "metadata": {
    "colab_type": "text",
    "id": "C5MVzF33-arx"
   },
   "source": [
    "### Prediction"
   ]
  },
  {
   "cell_type": "code",
   "execution_count": 16,
   "metadata": {
    "colab": {},
    "colab_type": "code",
    "id": "TcQ4m3IzCrrL"
   },
   "outputs": [],
   "source": [
    "predictions = model.predict([x_test])"
   ]
  },
  {
   "cell_type": "code",
   "execution_count": 17,
   "metadata": {
    "colab": {
     "base_uri": "https://localhost:8080/",
     "height": 34
    },
    "colab_type": "code",
    "executionInfo": {
     "elapsed": 58529,
     "status": "ok",
     "timestamp": 1565097816514,
     "user": {
      "displayName": "42 45",
      "photoUrl": "",
      "userId": "09640643992277259906"
     },
     "user_tz": -540
    },
    "id": "9oE_l2gdDLdH",
    "outputId": "ab8c351c-891f-401f-b125-2f65f119dc28"
   },
   "outputs": [
    {
     "name": "stdout",
     "output_type": "stream",
     "text": [
      "6\n"
     ]
    }
   ],
   "source": [
    "print(np.argmax(predictions[100]))"
   ]
  },
  {
   "cell_type": "code",
   "execution_count": 18,
   "metadata": {
    "colab": {
     "base_uri": "https://localhost:8080/",
     "height": 68
    },
    "colab_type": "code",
    "executionInfo": {
     "elapsed": 58528,
     "status": "ok",
     "timestamp": 1565097816515,
     "user": {
      "displayName": "42 45",
      "photoUrl": "",
      "userId": "09640643992277259906"
     },
     "user_tz": -540
    },
    "id": "u4c3thErK7m2",
    "outputId": "4907f7a1-fd9d-4cdd-c47e-6772545890f0"
   },
   "outputs": [
    {
     "data": {
      "text/plain": [
       "array([3.2106243e-04, 1.9680701e-05, 1.5698840e-04, 3.2938879e-06,\n",
       "       6.7155750e-05, 1.8032516e-06, 9.9941337e-01, 7.6425185e-06,\n",
       "       7.9038646e-06, 9.8252349e-07], dtype=float32)"
      ]
     },
     "execution_count": 18,
     "metadata": {},
     "output_type": "execute_result"
    }
   ],
   "source": [
    "predictions[100]"
   ]
  },
  {
   "cell_type": "code",
   "execution_count": 19,
   "metadata": {
    "colab": {
     "base_uri": "https://localhost:8080/",
     "height": 286
    },
    "colab_type": "code",
    "executionInfo": {
     "elapsed": 59009,
     "status": "ok",
     "timestamp": 1565097816998,
     "user": {
      "displayName": "42 45",
      "photoUrl": "",
      "userId": "09640643992277259906"
     },
     "user_tz": -540
    },
    "id": "zp62F3GtDXvO",
    "outputId": "bb010a18-ebc6-4c79-d6b8-1ef721fdbe1d"
   },
   "outputs": [
    {
     "data": {
      "text/plain": [
       "<matplotlib.image.AxesImage at 0x1312fa4a8>"
      ]
     },
     "execution_count": 19,
     "metadata": {},
     "output_type": "execute_result"
    },
    {
     "data": {
      "image/png": "[encoded data removed]",
      "text/plain": [
       "<Figure size 432x288 with 1 Axes>"
      ]
     },
     "metadata": {
      "needs_background": "light"
     },
     "output_type": "display_data"
    }
   ],
   "source": [
    "plt.imshow(x_test[100])"
   ]
  },
  {
   "cell_type": "code",
   "execution_count": 20,
   "metadata": {
    "colab": {
     "base_uri": "https://localhost:8080/",
     "height": 34
    },
    "colab_type": "code",
    "executionInfo": {
     "elapsed": 59008,
     "status": "ok",
     "timestamp": 1565097816999,
     "user": {
      "displayName": "42 45",
      "photoUrl": "",
      "userId": "09640643992277259906"
     },
     "user_tz": -540
    },
    "id": "XVvEzywwfe5P",
    "outputId": "7f122e6c-b36f-472b-c7b9-947abede3b4e"
   },
   "outputs": [
    {
     "data": {
      "text/plain": [
       "6"
      ]
     },
     "execution_count": 20,
     "metadata": {},
     "output_type": "execute_result"
    }
   ],
   "source": [
    "y_test[100]"
   ]
  },
  {
   "cell_type": "code",
   "execution_count": null,
   "metadata": {
    "colab": {},
    "colab_type": "code",
    "id": "SDaSo6TMrqMP"
   },
   "outputs": [],
   "source": []
  }
 ],
 "metadata": {
  "accelerator": "GPU",
  "colab": {
   "collapsed_sections": [],
   "name": "MNIST",
   "provenance": [
    {
     "file_id": "1JSWmPbGBmxsGTGOn9fDIxFmmKdrsaKHP",
     "timestamp": 1556266844356
    },
    {
     "file_id": "1OanAj_x-PBlokAnKW9l-Dijcs5ji3g7A",
     "timestamp": 1554458735655
    },
    {
     "file_id": "1YSfi_ATLwWy72bEWTPewUTvrXY4Fzp-z",
     "timestamp": 1552539262799
    }
   ],
   "version": "0.3.2"
  },
  "kernelspec": {
   "display_name": "Python 3",
   "language": "python",
   "name": "python3"
  },
  "language_info": {
   "codemirror_mode": {
    "name": "ipython",
    "version": 3
   },
   "file_extension": ".py",
   "mimetype": "text/x-python",
   "name": "python",
   "nbconvert_exporter": "python",
   "pygments_lexer": "ipython3",
   "version": "3.6.8"
  }
 },
 "nbformat": 4,
 "nbformat_minor": 1
}
