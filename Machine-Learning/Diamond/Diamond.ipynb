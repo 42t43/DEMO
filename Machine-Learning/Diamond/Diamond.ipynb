{
 "cells": [
  {
   "cell_type": "markdown",
   "metadata": {
    "colab_type": "text",
    "id": "C8mimT_qr4Cz"
   },
   "source": [
    "# Part6; ML with Pandas"
   ]
  },
  {
   "cell_type": "markdown",
   "metadata": {
    "colab_type": "text",
    "id": "-i9SWINfNEM1"
   },
   "source": [
    "[text tutorial](https://pythonprogramming.net/machine-learning-python3-pandas-data-analysis/)"
   ]
  },
  {
   "cell_type": "markdown",
   "metadata": {
    "colab_type": "text",
    "id": "7xp70hTrNL9Z"
   },
   "source": [
    "[kaggle datasets page link](https://www.kaggle.com/shivam2503/diamonds)"
   ]
  },
  {
   "cell_type": "markdown",
   "metadata": {
    "colab_type": "text",
    "id": "sFtEchjFtQ7c"
   },
   "source": [
    "we are going to build a model that predicts the price of the diamond based on its other data such as depth using csv dataset (regression model (not classifyer))"
   ]
  },
  {
   "cell_type": "markdown",
   "metadata": {
    "colab_type": "text",
    "id": "8CtlzXK8sZxz"
   },
   "source": [
    "### downloading/uploading dataset to colab"
   ]
  },
  {
   "cell_type": "code",
   "execution_count": null,
   "metadata": {
    "colab": {},
    "colab_type": "code",
    "id": "ZA4cmK92rxa7"
   },
   "outputs": [],
   "source": [
    "# unzipping zipfile\n",
    "from zipfile import ZipFile\n",
    "\n",
    "file_name = 'diamonds.zip'\n",
    "with ZipFile(file_name, 'r') as zip:\n",
    "  zip.extractall()"
   ]
  },
  {
   "cell_type": "code",
   "execution_count": null,
   "metadata": {
    "colab": {
     "base_uri": "https://localhost:8080/",
     "height": 54
    },
    "colab_type": "code",
    "executionInfo": {
     "elapsed": 329,
     "status": "ok",
     "timestamp": 1565171810119,
     "user": {
      "displayName": "42 45",
      "photoUrl": "",
      "userId": "09640643992277259906"
     },
     "user_tz": -540
    },
    "id": "GVmo81ADsv4t",
    "outputId": "04fa8e27-6515-4565-8433-9746c7556c80"
   },
   "outputs": [],
   "source": [
    "# getting cwd\n",
    "import os \n",
    "\n",
    "cwd = os.getcwd()\n",
    "files = os.listdir(cwd)\n",
    "print(cwd, files)"
   ]
  },
  {
   "cell_type": "markdown",
   "metadata": {
    "colab_type": "text",
    "id": "G3EF73Xnu1ks"
   },
   "source": [
    "### desiding the type of model"
   ]
  },
  {
   "cell_type": "markdown",
   "metadata": {
    "colab_type": "text",
    "id": "3WYNj1IUu-f4"
   },
   "source": [
    "consult with [this ML map](https://scikit-learn.org/stable/tutorial/machine_learning_map/)"
   ]
  },
  {
   "cell_type": "markdown",
   "metadata": {
    "colab_type": "text",
    "id": "Dl-PWAUQvQUA"
   },
   "source": [
    "based on the map and diamond dataset, we chose SVR model"
   ]
  },
  {
   "cell_type": "markdown",
   "metadata": {
    "colab_type": "text",
    "id": "GJDu98eYwUGF"
   },
   "source": [
    "## pre-processing dataset"
   ]
  },
  {
   "cell_type": "code",
   "execution_count": 1,
   "metadata": {
    "colab": {
     "base_uri": "https://localhost:8080/",
     "height": 204
    },
    "colab_type": "code",
    "executionInfo": {
     "elapsed": 402,
     "status": "ok",
     "timestamp": 1565171814522,
     "user": {
      "displayName": "42 45",
      "photoUrl": "",
      "userId": "09640643992277259906"
     },
     "user_tz": -540
    },
    "id": "V2KI6IIXtFPJ",
    "outputId": "36882bc8-98f7-4f76-8bc9-a86bd9fc96aa"
   },
   "outputs": [
    {
     "data": {
      "text/html": [
       "<div>\n",
       "<style scoped>\n",
       "    .dataframe tbody tr th:only-of-type {\n",
       "        vertical-align: middle;\n",
       "    }\n",
       "\n",
       "    .dataframe tbody tr th {\n",
       "        vertical-align: top;\n",
       "    }\n",
       "\n",
       "    .dataframe thead th {\n",
       "        text-align: right;\n",
       "    }\n",
       "</style>\n",
       "<table border=\"1\" class=\"dataframe\">\n",
       "  <thead>\n",
       "    <tr style=\"text-align: right;\">\n",
       "      <th></th>\n",
       "      <th>carat</th>\n",
       "      <th>cut</th>\n",
       "      <th>color</th>\n",
       "      <th>clarity</th>\n",
       "      <th>depth</th>\n",
       "      <th>table</th>\n",
       "      <th>price</th>\n",
       "      <th>x</th>\n",
       "      <th>y</th>\n",
       "      <th>z</th>\n",
       "    </tr>\n",
       "  </thead>\n",
       "  <tbody>\n",
       "    <tr>\n",
       "      <th>1</th>\n",
       "      <td>0.23</td>\n",
       "      <td>Ideal</td>\n",
       "      <td>E</td>\n",
       "      <td>SI2</td>\n",
       "      <td>61.5</td>\n",
       "      <td>55.0</td>\n",
       "      <td>326</td>\n",
       "      <td>3.95</td>\n",
       "      <td>3.98</td>\n",
       "      <td>2.43</td>\n",
       "    </tr>\n",
       "    <tr>\n",
       "      <th>2</th>\n",
       "      <td>0.21</td>\n",
       "      <td>Premium</td>\n",
       "      <td>E</td>\n",
       "      <td>SI1</td>\n",
       "      <td>59.8</td>\n",
       "      <td>61.0</td>\n",
       "      <td>326</td>\n",
       "      <td>3.89</td>\n",
       "      <td>3.84</td>\n",
       "      <td>2.31</td>\n",
       "    </tr>\n",
       "    <tr>\n",
       "      <th>3</th>\n",
       "      <td>0.23</td>\n",
       "      <td>Good</td>\n",
       "      <td>E</td>\n",
       "      <td>VS1</td>\n",
       "      <td>56.9</td>\n",
       "      <td>65.0</td>\n",
       "      <td>327</td>\n",
       "      <td>4.05</td>\n",
       "      <td>4.07</td>\n",
       "      <td>2.31</td>\n",
       "    </tr>\n",
       "    <tr>\n",
       "      <th>4</th>\n",
       "      <td>0.29</td>\n",
       "      <td>Premium</td>\n",
       "      <td>I</td>\n",
       "      <td>VS2</td>\n",
       "      <td>62.4</td>\n",
       "      <td>58.0</td>\n",
       "      <td>334</td>\n",
       "      <td>4.20</td>\n",
       "      <td>4.23</td>\n",
       "      <td>2.63</td>\n",
       "    </tr>\n",
       "    <tr>\n",
       "      <th>5</th>\n",
       "      <td>0.31</td>\n",
       "      <td>Good</td>\n",
       "      <td>J</td>\n",
       "      <td>SI2</td>\n",
       "      <td>63.3</td>\n",
       "      <td>58.0</td>\n",
       "      <td>335</td>\n",
       "      <td>4.34</td>\n",
       "      <td>4.35</td>\n",
       "      <td>2.75</td>\n",
       "    </tr>\n",
       "  </tbody>\n",
       "</table>\n",
       "</div>"
      ],
      "text/plain": [
       "   carat      cut color clarity  depth  table  price     x     y     z\n",
       "1   0.23    Ideal     E     SI2   61.5   55.0    326  3.95  3.98  2.43\n",
       "2   0.21  Premium     E     SI1   59.8   61.0    326  3.89  3.84  2.31\n",
       "3   0.23     Good     E     VS1   56.9   65.0    327  4.05  4.07  2.31\n",
       "4   0.29  Premium     I     VS2   62.4   58.0    334  4.20  4.23  2.63\n",
       "5   0.31     Good     J     SI2   63.3   58.0    335  4.34  4.35  2.75"
      ]
     },
     "execution_count": 1,
     "metadata": {},
     "output_type": "execute_result"
    }
   ],
   "source": [
    "import pandas as pd\n",
    "\n",
    "# reading dataset from csv file\n",
    "# because the dataset already has original index, we avoid adding another index column\n",
    "df = pd.read_csv('diamonds.csv', index_col=0)\n",
    "df.head()"
   ]
  },
  {
   "cell_type": "markdown",
   "metadata": {
    "colab_type": "text",
    "id": "TnoStlepwFHE"
   },
   "source": [
    "column 'price' is the one we want to predict.\n",
    "\n",
    "therefore, first we need to remove column 'price' from dataset"
   ]
  },
  {
   "cell_type": "markdown",
   "metadata": {
    "colab_type": "text",
    "id": "vATKC_wIwc_Z"
   },
   "source": [
    "we also need to convert values into meaningful numbers before feeding them into our model"
   ]
  },
  {
   "cell_type": "code",
   "execution_count": 2,
   "metadata": {
    "colab": {
     "base_uri": "https://localhost:8080/",
     "height": 34
    },
    "colab_type": "code",
    "executionInfo": {
     "elapsed": 440,
     "status": "ok",
     "timestamp": 1565171817597,
     "user": {
      "displayName": "42 45",
      "photoUrl": "",
      "userId": "09640643992277259906"
     },
     "user_tz": -540
    },
    "id": "lFTeHRPcv3Sr",
    "outputId": "9c81474c-3a0a-4049-933f-3620054c6ded"
   },
   "outputs": [
    {
     "data": {
      "text/plain": [
       "array(['Ideal', 'Premium', 'Good', 'Very Good', 'Fair'], dtype=object)"
      ]
     },
     "execution_count": 2,
     "metadata": {},
     "output_type": "execute_result"
    }
   ],
   "source": [
    "df['cut'].unique()"
   ]
  },
  {
   "cell_type": "markdown",
   "metadata": {
    "colab_type": "text",
    "id": "yUSAeqrfxxHR"
   },
   "source": [
    "### automatic assignment"
   ]
  },
  {
   "cell_type": "markdown",
   "metadata": {
    "colab_type": "text",
    "id": "YI0oXCaux4Wb"
   },
   "source": [
    "usually, this method is enough for ML"
   ]
  },
  {
   "cell_type": "code",
   "execution_count": 3,
   "metadata": {
    "colab": {
     "base_uri": "https://localhost:8080/",
     "height": 1000
    },
    "colab_type": "code",
    "executionInfo": {
     "elapsed": 561,
     "status": "ok",
     "timestamp": 1565171818315,
     "user": {
      "displayName": "42 45",
      "photoUrl": "",
      "userId": "09640643992277259906"
     },
     "user_tz": -540
    },
    "id": "2xcDgkiTwvIQ",
    "outputId": "1e9aeb65-3e63-4d46-cff8-96b152e4fb9b"
   },
   "outputs": [
    {
     "data": {
      "text/plain": [
       "1        2\n",
       "2        3\n",
       "3        1\n",
       "4        3\n",
       "5        1\n",
       "6        4\n",
       "7        4\n",
       "8        4\n",
       "9        0\n",
       "10       4\n",
       "11       1\n",
       "12       2\n",
       "13       3\n",
       "14       2\n",
       "15       3\n",
       "16       3\n",
       "17       2\n",
       "18       1\n",
       "19       1\n",
       "20       4\n",
       "21       1\n",
       "22       4\n",
       "23       4\n",
       "24       4\n",
       "25       4\n",
       "26       4\n",
       "27       3\n",
       "28       4\n",
       "29       4\n",
       "30       4\n",
       "        ..\n",
       "53911    3\n",
       "53912    3\n",
       "53913    3\n",
       "53914    1\n",
       "53915    1\n",
       "53916    2\n",
       "53917    1\n",
       "53918    4\n",
       "53919    3\n",
       "53920    2\n",
       "53921    4\n",
       "53922    4\n",
       "53923    4\n",
       "53924    2\n",
       "53925    2\n",
       "53926    2\n",
       "53927    2\n",
       "53928    1\n",
       "53929    3\n",
       "53930    2\n",
       "53931    3\n",
       "53932    3\n",
       "53933    4\n",
       "53934    4\n",
       "53935    3\n",
       "53936    2\n",
       "53937    1\n",
       "53938    4\n",
       "53939    3\n",
       "53940    2\n",
       "Length: 53940, dtype: int8"
      ]
     },
     "execution_count": 3,
     "metadata": {},
     "output_type": "execute_result"
    }
   ],
   "source": [
    "# we can use this code to automatically assign numbers\n",
    "df['cut'].astype('category').cat.codes"
   ]
  },
  {
   "cell_type": "markdown",
   "metadata": {
    "colab_type": "text",
    "id": "-MnTwQGUx1gJ"
   },
   "source": [
    "### manual assignment"
   ]
  },
  {
   "cell_type": "markdown",
   "metadata": {
    "colab_type": "text",
    "id": "iuhSKZDxx8bd"
   },
   "source": [
    "because this labels ('Ideal', 'Premium', 'Good', 'Very Good', 'Fair') has meaning, we manually assign numbers.\n",
    "\n",
    "in this example, numbers get higher as the quality goes up"
   ]
  },
  {
   "cell_type": "markdown",
   "metadata": {
    "colab_type": "text",
    "id": "h2bbYClfy52R"
   },
   "source": [
    "###making dictionary"
   ]
  },
  {
   "cell_type": "code",
   "execution_count": 4,
   "metadata": {
    "colab": {},
    "colab_type": "code",
    "id": "JJCUhqx5w2mp"
   },
   "outputs": [],
   "source": [
    "cut_class_dict = {\"Fair\": 1, \"Good\": 2, \"Very Good\": 3, \"Premium\": 4, \"Ideal\": 5}"
   ]
  },
  {
   "cell_type": "code",
   "execution_count": 5,
   "metadata": {
    "colab": {},
    "colab_type": "code",
    "id": "NHPE2WVeyeAV"
   },
   "outputs": [],
   "source": [
    "# making dicts for other labels\n",
    "clarity_dict = {\"I3\": 1, \"I2\": 2, \"I1\": 3, \"SI2\": 4, \"SI1\": 5, \"VS2\": 6, \"VS1\": 7, \"VVS2\": 8, \"VVS1\": 9, \"IF\": 10, \"FL\": 11}\n",
    "color_dict = {\"J\": 1,\"I\": 2,\"H\": 3,\"G\": 4,\"F\": 5,\"E\": 6,\"D\": 7}"
   ]
  },
  {
   "cell_type": "markdown",
   "metadata": {
    "colab_type": "text",
    "id": "tkvJ-LW2y0IB"
   },
   "source": [
    "###mapping based on dictionary"
   ]
  },
  {
   "cell_type": "code",
   "execution_count": 6,
   "metadata": {
    "colab": {
     "base_uri": "https://localhost:8080/",
     "height": 204
    },
    "colab_type": "code",
    "executionInfo": {
     "elapsed": 476,
     "status": "ok",
     "timestamp": 1565171819621,
     "user": {
      "displayName": "42 45",
      "photoUrl": "",
      "userId": "09640643992277259906"
     },
     "user_tz": -540
    },
    "id": "5fP30HAEzHHB",
    "outputId": "5b2c5916-1cfa-4962-ca60-11f82ba2ec83"
   },
   "outputs": [
    {
     "data": {
      "text/html": [
       "<div>\n",
       "<style scoped>\n",
       "    .dataframe tbody tr th:only-of-type {\n",
       "        vertical-align: middle;\n",
       "    }\n",
       "\n",
       "    .dataframe tbody tr th {\n",
       "        vertical-align: top;\n",
       "    }\n",
       "\n",
       "    .dataframe thead th {\n",
       "        text-align: right;\n",
       "    }\n",
       "</style>\n",
       "<table border=\"1\" class=\"dataframe\">\n",
       "  <thead>\n",
       "    <tr style=\"text-align: right;\">\n",
       "      <th></th>\n",
       "      <th>carat</th>\n",
       "      <th>cut</th>\n",
       "      <th>color</th>\n",
       "      <th>clarity</th>\n",
       "      <th>depth</th>\n",
       "      <th>table</th>\n",
       "      <th>price</th>\n",
       "      <th>x</th>\n",
       "      <th>y</th>\n",
       "      <th>z</th>\n",
       "    </tr>\n",
       "  </thead>\n",
       "  <tbody>\n",
       "    <tr>\n",
       "      <th>1</th>\n",
       "      <td>0.23</td>\n",
       "      <td>5</td>\n",
       "      <td>6</td>\n",
       "      <td>4</td>\n",
       "      <td>61.5</td>\n",
       "      <td>55.0</td>\n",
       "      <td>326</td>\n",
       "      <td>3.95</td>\n",
       "      <td>3.98</td>\n",
       "      <td>2.43</td>\n",
       "    </tr>\n",
       "    <tr>\n",
       "      <th>2</th>\n",
       "      <td>0.21</td>\n",
       "      <td>4</td>\n",
       "      <td>6</td>\n",
       "      <td>5</td>\n",
       "      <td>59.8</td>\n",
       "      <td>61.0</td>\n",
       "      <td>326</td>\n",
       "      <td>3.89</td>\n",
       "      <td>3.84</td>\n",
       "      <td>2.31</td>\n",
       "    </tr>\n",
       "    <tr>\n",
       "      <th>3</th>\n",
       "      <td>0.23</td>\n",
       "      <td>2</td>\n",
       "      <td>6</td>\n",
       "      <td>7</td>\n",
       "      <td>56.9</td>\n",
       "      <td>65.0</td>\n",
       "      <td>327</td>\n",
       "      <td>4.05</td>\n",
       "      <td>4.07</td>\n",
       "      <td>2.31</td>\n",
       "    </tr>\n",
       "    <tr>\n",
       "      <th>4</th>\n",
       "      <td>0.29</td>\n",
       "      <td>4</td>\n",
       "      <td>2</td>\n",
       "      <td>6</td>\n",
       "      <td>62.4</td>\n",
       "      <td>58.0</td>\n",
       "      <td>334</td>\n",
       "      <td>4.20</td>\n",
       "      <td>4.23</td>\n",
       "      <td>2.63</td>\n",
       "    </tr>\n",
       "    <tr>\n",
       "      <th>5</th>\n",
       "      <td>0.31</td>\n",
       "      <td>2</td>\n",
       "      <td>1</td>\n",
       "      <td>4</td>\n",
       "      <td>63.3</td>\n",
       "      <td>58.0</td>\n",
       "      <td>335</td>\n",
       "      <td>4.34</td>\n",
       "      <td>4.35</td>\n",
       "      <td>2.75</td>\n",
       "    </tr>\n",
       "  </tbody>\n",
       "</table>\n",
       "</div>"
      ],
      "text/plain": [
       "   carat  cut  color  clarity  depth  table  price     x     y     z\n",
       "1   0.23    5      6        4   61.5   55.0    326  3.95  3.98  2.43\n",
       "2   0.21    4      6        5   59.8   61.0    326  3.89  3.84  2.31\n",
       "3   0.23    2      6        7   56.9   65.0    327  4.05  4.07  2.31\n",
       "4   0.29    4      2        6   62.4   58.0    334  4.20  4.23  2.63\n",
       "5   0.31    2      1        4   63.3   58.0    335  4.34  4.35  2.75"
      ]
     },
     "execution_count": 6,
     "metadata": {},
     "output_type": "execute_result"
    }
   ],
   "source": [
    "df['cut'] = df['cut'].map(cut_class_dict)\n",
    "df['clarity'] = df['clarity'].map(clarity_dict)\n",
    "df['color'] = df['color'].map(color_dict)\n",
    "df.head()"
   ]
  },
  {
   "cell_type": "markdown",
   "metadata": {
    "colab_type": "text",
    "id": "u8jzYZNF0MVB"
   },
   "source": [
    "now our dataset has only numorical values and are ready to be feeded into our ML model"
   ]
  },
  {
   "cell_type": "markdown",
   "metadata": {
    "colab_type": "text",
    "id": "RCjA6rum0KO1"
   },
   "source": [
    "##building the model"
   ]
  },
  {
   "cell_type": "markdown",
   "metadata": {
    "colab_type": "text",
    "id": "eKIq2vrU0qym"
   },
   "source": [
    "by consulting with [ML map](https://scikit-learn.org/stable/tutorial/machine_learning_map/), we desided to use SVR model."
   ]
  },
  {
   "cell_type": "markdown",
   "metadata": {
    "colab_type": "text",
    "id": "fvlIzBLZ1CHG"
   },
   "source": [
    "follow [this tutorial](https://scikit-learn.org/stable/modules/svm.html#regression) when building the model"
   ]
  },
  {
   "cell_type": "code",
   "execution_count": 7,
   "metadata": {
    "colab": {},
    "colab_type": "code",
    "id": "cnTveAaczlJZ"
   },
   "outputs": [],
   "source": [
    "import sklearn\n",
    "from sklearn import svm, preprocessing"
   ]
  },
  {
   "cell_type": "markdown",
   "metadata": {
    "colab_type": "text",
    "id": "1mBer1Dw1TAe"
   },
   "source": [
    "### shuffuling dataset"
   ]
  },
  {
   "cell_type": "markdown",
   "metadata": {
    "colab_type": "text",
    "id": "i6oiEN5X1Vzi"
   },
   "source": [
    "it is always good idea to shuffule dataset before feeding to the model"
   ]
  },
  {
   "cell_type": "code",
   "execution_count": 8,
   "metadata": {
    "colab": {},
    "colab_type": "code",
    "id": "m8ogRjkGz-Cu"
   },
   "outputs": [],
   "source": [
    "df = sklearn.utils.shuffle(df)"
   ]
  },
  {
   "cell_type": "markdown",
   "metadata": {
    "colab_type": "text",
    "id": "Q7tWm6xj3i6T"
   },
   "source": [
    "###checking shape of X and y (features and labels)"
   ]
  },
  {
   "cell_type": "code",
   "execution_count": 9,
   "metadata": {
    "colab": {
     "base_uri": "https://localhost:8080/",
     "height": 204
    },
    "colab_type": "code",
    "executionInfo": {
     "elapsed": 422,
     "status": "ok",
     "timestamp": 1565171821518,
     "user": {
      "displayName": "42 45",
      "photoUrl": "",
      "userId": "09640643992277259906"
     },
     "user_tz": -540
    },
    "id": "qD8ztP-u2I5e",
    "outputId": "22d64b50-82a9-4f5a-ab2d-e014c3e33f15"
   },
   "outputs": [
    {
     "data": {
      "text/html": [
       "<div>\n",
       "<style scoped>\n",
       "    .dataframe tbody tr th:only-of-type {\n",
       "        vertical-align: middle;\n",
       "    }\n",
       "\n",
       "    .dataframe tbody tr th {\n",
       "        vertical-align: top;\n",
       "    }\n",
       "\n",
       "    .dataframe thead th {\n",
       "        text-align: right;\n",
       "    }\n",
       "</style>\n",
       "<table border=\"1\" class=\"dataframe\">\n",
       "  <thead>\n",
       "    <tr style=\"text-align: right;\">\n",
       "      <th></th>\n",
       "      <th>carat</th>\n",
       "      <th>cut</th>\n",
       "      <th>color</th>\n",
       "      <th>clarity</th>\n",
       "      <th>depth</th>\n",
       "      <th>table</th>\n",
       "      <th>x</th>\n",
       "      <th>y</th>\n",
       "      <th>z</th>\n",
       "    </tr>\n",
       "  </thead>\n",
       "  <tbody>\n",
       "    <tr>\n",
       "      <th>1872</th>\n",
       "      <td>0.82</td>\n",
       "      <td>5</td>\n",
       "      <td>2</td>\n",
       "      <td>7</td>\n",
       "      <td>61.6</td>\n",
       "      <td>56.0</td>\n",
       "      <td>6.05</td>\n",
       "      <td>6.01</td>\n",
       "      <td>3.72</td>\n",
       "    </tr>\n",
       "    <tr>\n",
       "      <th>20663</th>\n",
       "      <td>1.22</td>\n",
       "      <td>4</td>\n",
       "      <td>7</td>\n",
       "      <td>6</td>\n",
       "      <td>59.6</td>\n",
       "      <td>60.0</td>\n",
       "      <td>6.97</td>\n",
       "      <td>6.95</td>\n",
       "      <td>4.15</td>\n",
       "    </tr>\n",
       "    <tr>\n",
       "      <th>48213</th>\n",
       "      <td>0.76</td>\n",
       "      <td>3</td>\n",
       "      <td>1</td>\n",
       "      <td>6</td>\n",
       "      <td>59.9</td>\n",
       "      <td>59.0</td>\n",
       "      <td>5.92</td>\n",
       "      <td>5.94</td>\n",
       "      <td>3.55</td>\n",
       "    </tr>\n",
       "    <tr>\n",
       "      <th>39688</th>\n",
       "      <td>0.40</td>\n",
       "      <td>4</td>\n",
       "      <td>5</td>\n",
       "      <td>8</td>\n",
       "      <td>62.2</td>\n",
       "      <td>59.0</td>\n",
       "      <td>4.65</td>\n",
       "      <td>4.70</td>\n",
       "      <td>2.91</td>\n",
       "    </tr>\n",
       "    <tr>\n",
       "      <th>41333</th>\n",
       "      <td>0.50</td>\n",
       "      <td>2</td>\n",
       "      <td>5</td>\n",
       "      <td>5</td>\n",
       "      <td>59.6</td>\n",
       "      <td>61.0</td>\n",
       "      <td>5.12</td>\n",
       "      <td>5.19</td>\n",
       "      <td>3.07</td>\n",
       "    </tr>\n",
       "  </tbody>\n",
       "</table>\n",
       "</div>"
      ],
      "text/plain": [
       "       carat  cut  color  clarity  depth  table     x     y     z\n",
       "1872    0.82    5      2        7   61.6   56.0  6.05  6.01  3.72\n",
       "20663   1.22    4      7        6   59.6   60.0  6.97  6.95  4.15\n",
       "48213   0.76    3      1        6   59.9   59.0  5.92  5.94  3.55\n",
       "39688   0.40    4      5        8   62.2   59.0  4.65  4.70  2.91\n",
       "41333   0.50    2      5        5   59.6   61.0  5.12  5.19  3.07"
      ]
     },
     "execution_count": 9,
     "metadata": {},
     "output_type": "execute_result"
    }
   ],
   "source": [
    "# dropping price column\n",
    "df.drop('price', axis=1).head()"
   ]
  },
  {
   "cell_type": "code",
   "execution_count": 10,
   "metadata": {
    "colab": {
     "base_uri": "https://localhost:8080/",
     "height": 136
    },
    "colab_type": "code",
    "executionInfo": {
     "elapsed": 759,
     "status": "ok",
     "timestamp": 1565171822004,
     "user": {
      "displayName": "42 45",
      "photoUrl": "",
      "userId": "09640643992277259906"
     },
     "user_tz": -540
    },
    "id": "Uv5rdtHg2Tsa",
    "outputId": "40955c29-c1e4-4dc8-b9e8-01244d4987ca"
   },
   "outputs": [
    {
     "data": {
      "text/plain": [
       "array([[0.82, 5.  , 2.  , ..., 6.05, 6.01, 3.72],\n",
       "       [1.22, 4.  , 7.  , ..., 6.97, 6.95, 4.15],\n",
       "       [0.76, 3.  , 1.  , ..., 5.92, 5.94, 3.55],\n",
       "       ...,\n",
       "       [2.02, 3.  , 4.  , ..., 8.05, 7.96, 5.07],\n",
       "       [1.51, 5.  , 5.  , ..., 7.35, 7.41, 4.55],\n",
       "       [0.31, 5.  , 2.  , ..., 4.38, 4.39, 2.71]])"
      ]
     },
     "execution_count": 10,
     "metadata": {},
     "output_type": "execute_result"
    }
   ],
   "source": [
    "# converting dataframe into numpy array by adding .values\n",
    "df.drop('price', axis=1).values"
   ]
  },
  {
   "cell_type": "code",
   "execution_count": 11,
   "metadata": {
    "colab": {
     "base_uri": "https://localhost:8080/",
     "height": 119
    },
    "colab_type": "code",
    "executionInfo": {
     "elapsed": 562,
     "status": "ok",
     "timestamp": 1565171822005,
     "user": {
      "displayName": "42 45",
      "photoUrl": "",
      "userId": "09640643992277259906"
     },
     "user_tz": -540
    },
    "id": "IDBcqC-c2vmi",
    "outputId": "fc153403-c193-4a34-9751-bebae4cb4609"
   },
   "outputs": [
    {
     "data": {
      "text/plain": [
       "1872     3071\n",
       "20663    8950\n",
       "48213    1949\n",
       "39688    1088\n",
       "41333    1214\n",
       "Name: price, dtype: int64"
      ]
     },
     "execution_count": 11,
     "metadata": {},
     "output_type": "execute_result"
    }
   ],
   "source": [
    "df['price'].head()"
   ]
  },
  {
   "cell_type": "markdown",
   "metadata": {
    "colab_type": "text",
    "id": "4aLaHtwX3pFD"
   },
   "source": [
    "### setting X and y (features and labels)"
   ]
  },
  {
   "cell_type": "code",
   "execution_count": 12,
   "metadata": {
    "colab": {},
    "colab_type": "code",
    "id": "Q9GQE_o61ixV"
   },
   "outputs": [],
   "source": [
    "# X represent feature such as cut, clarity and color\n",
    "# we can create df for X just by dropping price column (axis=1)\n",
    "X = df.drop('price', axis=1).values\n",
    "\n",
    "# y represent label which is price \n",
    "y = df['price'].values"
   ]
  },
  {
   "cell_type": "code",
   "execution_count": 13,
   "metadata": {
    "colab": {
     "base_uri": "https://localhost:8080/",
     "height": 136
    },
    "colab_type": "code",
    "executionInfo": {
     "elapsed": 870,
     "status": "ok",
     "timestamp": 1565171822947,
     "user": {
      "displayName": "42 45",
      "photoUrl": "",
      "userId": "09640643992277259906"
     },
     "user_tz": -540
    },
    "id": "ryO_QYlv2tWP",
    "outputId": "4f06119d-6f87-4672-c704-933afc2a6f41"
   },
   "outputs": [
    {
     "data": {
      "text/plain": [
       "array([[0.82, 5.  , 2.  , ..., 6.05, 6.01, 3.72],\n",
       "       [1.22, 4.  , 7.  , ..., 6.97, 6.95, 4.15],\n",
       "       [0.76, 3.  , 1.  , ..., 5.92, 5.94, 3.55],\n",
       "       ...,\n",
       "       [2.02, 3.  , 4.  , ..., 8.05, 7.96, 5.07],\n",
       "       [1.51, 5.  , 5.  , ..., 7.35, 7.41, 4.55],\n",
       "       [0.31, 5.  , 2.  , ..., 4.38, 4.39, 2.71]])"
      ]
     },
     "execution_count": 13,
     "metadata": {},
     "output_type": "execute_result"
    }
   ],
   "source": [
    "X"
   ]
  },
  {
   "cell_type": "code",
   "execution_count": 14,
   "metadata": {
    "colab": {
     "base_uri": "https://localhost:8080/",
     "height": 34
    },
    "colab_type": "code",
    "executionInfo": {
     "elapsed": 623,
     "status": "ok",
     "timestamp": 1565171823259,
     "user": {
      "displayName": "42 45",
      "photoUrl": "",
      "userId": "09640643992277259906"
     },
     "user_tz": -540
    },
    "id": "9zMLhUVAiB1I",
    "outputId": "d290488b-e43e-4f09-d5ba-8d770a28c930"
   },
   "outputs": [
    {
     "data": {
      "text/plain": [
       "(53940, 9)"
      ]
     },
     "execution_count": 14,
     "metadata": {},
     "output_type": "execute_result"
    }
   ],
   "source": [
    "X.shape"
   ]
  },
  {
   "cell_type": "code",
   "execution_count": 15,
   "metadata": {
    "colab": {
     "base_uri": "https://localhost:8080/",
     "height": 34
    },
    "colab_type": "code",
    "executionInfo": {
     "elapsed": 571,
     "status": "ok",
     "timestamp": 1565171823260,
     "user": {
      "displayName": "42 45",
      "photoUrl": "",
      "userId": "09640643992277259906"
     },
     "user_tz": -540
    },
    "id": "xNAVMCaYijAW",
    "outputId": "158b53f9-16f8-4424-9224-1f4bbb92aa49"
   },
   "outputs": [
    {
     "data": {
      "text/plain": [
       "(53940,)"
      ]
     },
     "execution_count": 15,
     "metadata": {},
     "output_type": "execute_result"
    }
   ],
   "source": [
    "y.shape"
   ]
  },
  {
   "cell_type": "markdown",
   "metadata": {
    "colab_type": "text",
    "id": "SuT2I0OV4Ix6"
   },
   "source": [
    "### preprocessing X for efficiency"
   ]
  },
  {
   "cell_type": "code",
   "execution_count": 16,
   "metadata": {
    "colab": {},
    "colab_type": "code",
    "id": "S3ULWnDs30rt"
   },
   "outputs": [],
   "source": [
    "preprocessed_X = preprocessing.scale(X)"
   ]
  },
  {
   "cell_type": "code",
   "execution_count": 17,
   "metadata": {
    "colab": {
     "base_uri": "https://localhost:8080/",
     "height": 238
    },
    "colab_type": "code",
    "executionInfo": {
     "elapsed": 495,
     "status": "ok",
     "timestamp": 1565171823738,
     "user": {
      "displayName": "42 45",
      "photoUrl": "",
      "userId": "09640643992277259906"
     },
     "user_tz": -540
    },
    "id": "Q6YUQpmS4AnU",
    "outputId": "bf9a74fe-8c19-468e-f361-15a191dfb78a"
   },
   "outputs": [
    {
     "data": {
      "text/plain": [
       "array([[ 0.04653994,  0.98147332, -1.41427211, ...,  0.28423685,\n",
       "         0.2411945 ,  0.25686297],\n",
       "       [ 0.8904096 ,  0.08588908,  1.52502147, ...,  1.10438369,\n",
       "         1.06422241,  0.86619369],\n",
       "       [-0.08004051, -0.80969515, -2.00213083, ...,  0.16834654,\n",
       "         0.17990519,  0.01596478],\n",
       "       ...,\n",
       "       [ 2.57814893, -0.80969515, -0.23855468, ...,  2.06716476,\n",
       "         1.94853963,  2.16987802],\n",
       "       [ 1.50221511,  0.98147332,  0.34930404, ...,  1.44313999,\n",
       "         1.46698075,  1.43301296],\n",
       "       [-1.02939387,  0.98147332, -1.41427211, ..., -1.20450795,\n",
       "        -1.1772153 , -1.1743557 ]])"
      ]
     },
     "execution_count": 17,
     "metadata": {},
     "output_type": "execute_result"
    }
   ],
   "source": [
    "preprocessed_X"
   ]
  },
  {
   "cell_type": "markdown",
   "metadata": {
    "colab_type": "text",
    "id": "RZyUJswF4QvW"
   },
   "source": [
    "### setting X and y (final ver)"
   ]
  },
  {
   "cell_type": "code",
   "execution_count": 18,
   "metadata": {
    "colab": {},
    "colab_type": "code",
    "id": "GqVaPqr34CUy"
   },
   "outputs": [],
   "source": [
    "# X represent feature such as cut, clarity and color\n",
    "# we can create df for X just by dropping price column (axis=1)\n",
    "X = df.drop('price', axis=1).values\n",
    "X = preprocessing.scale(X)\n",
    "\n",
    "# y represent label which is price \n",
    "y = df['price'].values"
   ]
  },
  {
   "cell_type": "code",
   "execution_count": 19,
   "metadata": {
    "colab": {},
    "colab_type": "code",
    "id": "r0nGDdv74bpD"
   },
   "outputs": [],
   "source": [
    "# splitting dataset into training set and testing set\n",
    "test_size = 200\n",
    "\n",
    "X_train = X[:-test_size]\n",
    "y_train = y[:-test_size]\n",
    "\n",
    "X_test = X[-test_size:]\n",
    "y_test = y[-test_size:]"
   ]
  },
  {
   "cell_type": "code",
   "execution_count": 20,
   "metadata": {
    "colab": {
     "base_uri": "https://localhost:8080/",
     "height": 238
    },
    "colab_type": "code",
    "executionInfo": {
     "elapsed": 326,
     "status": "ok",
     "timestamp": 1565171824698,
     "user": {
      "displayName": "42 45",
      "photoUrl": "",
      "userId": "09640643992277259906"
     },
     "user_tz": -540
    },
    "id": "YTBjUPE8isnI",
    "outputId": "1502f31e-46b6-4b69-a678-7cacc4fefe21"
   },
   "outputs": [
    {
     "data": {
      "text/plain": [
       "array([[ 0.04653994,  0.98147332, -1.41427211, ...,  0.28423685,\n",
       "         0.2411945 ,  0.25686297],\n",
       "       [ 0.8904096 ,  0.08588908,  1.52502147, ...,  1.10438369,\n",
       "         1.06422241,  0.86619369],\n",
       "       [-0.08004051, -0.80969515, -2.00213083, ...,  0.16834654,\n",
       "         0.17990519,  0.01596478],\n",
       "       ...,\n",
       "       [-1.02939387,  0.98147332,  1.52502147, ..., -1.26691043,\n",
       "        -1.20348215, -1.1743557 ],\n",
       "       [-1.00829713,  0.08588908,  1.52502147, ..., -1.18667867,\n",
       "        -1.20348215, -1.10350329],\n",
       "       [ 1.60769882,  0.98147332, -0.8264134 , ...,  1.57685958,\n",
       "         1.57204814,  1.41884248]])"
      ]
     },
     "execution_count": 20,
     "metadata": {},
     "output_type": "execute_result"
    }
   ],
   "source": [
    "X_train"
   ]
  },
  {
   "cell_type": "code",
   "execution_count": 21,
   "metadata": {
    "colab": {
     "base_uri": "https://localhost:8080/",
     "height": 34
    },
    "colab_type": "code",
    "executionInfo": {
     "elapsed": 322,
     "status": "ok",
     "timestamp": 1565171824891,
     "user": {
      "displayName": "42 45",
      "photoUrl": "",
      "userId": "09640643992277259906"
     },
     "user_tz": -540
    },
    "id": "0PN20b-KiwZe",
    "outputId": "11b8f0ef-4329-474a-cdf1-0f45bb71a702"
   },
   "outputs": [
    {
     "data": {
      "text/plain": [
       "(53740, 9)"
      ]
     },
     "execution_count": 21,
     "metadata": {},
     "output_type": "execute_result"
    }
   ],
   "source": [
    "X_train.shape"
   ]
  },
  {
   "cell_type": "code",
   "execution_count": 22,
   "metadata": {
    "colab": {
     "base_uri": "https://localhost:8080/",
     "height": 408
    },
    "colab_type": "code",
    "executionInfo": {
     "elapsed": 339,
     "status": "ok",
     "timestamp": 1565171825100,
     "user": {
      "displayName": "42 45",
      "photoUrl": "",
      "userId": "09640643992277259906"
     },
     "user_tz": -540
    },
    "id": "KNujwJgwiy55",
    "outputId": "9e48109d-7932-4a31-d912-e747a954ff4c"
   },
   "outputs": [
    {
     "data": {
      "text/plain": [
       "array([  827,  2728,  4566,  1343, 16232,   826,  1979, 10993,  1008,\n",
       "         544,  3219,   472,  1031,  1438,  8040,   631,  3893,  4470,\n",
       "        5279,  2041,  1906, 16297,  1229, 11713,  1240,  1905,   628,\n",
       "        1235,   698,  1259,  4900,  1183,  6230, 12931,  5510,   492,\n",
       "       11843,  2206, 16715,   433,   872,   993,  2872, 15581,  2569,\n",
       "        6785,   616,   574,  1018,  5183,  2075,  1076,  1454,  2192,\n",
       "       12229,  5167,   706, 18102,   902,   507,  4672,  9165, 11946,\n",
       "        1257,  2780,  1105,   581,  2693,  4673, 13132,  5050,  1866,\n",
       "        9777,  1237,  3052, 12872,  3378, 11360,   885,  3096,   402,\n",
       "        1574,  2288, 18528,  1679,   522, 10082,  4118,   642,  4015,\n",
       "        3288,  5378,  4606,  2585,   953,  1822,  3332,  1046,   460,\n",
       "        1050,   829,   914,   899,   469, 13006,   551,   827,   956,\n",
       "        1295,  2309,  3910, 11580, 10863,  1080,   942, 10439,  2340,\n",
       "        3082,   730,  1845,  1375,  9009, 11970,   756,  1998,   702,\n",
       "         969,   746,  2760,   624,  1052,  2160,  1293,  5251,  3016,\n",
       "        1651,   458, 11969,  5578,  2956,  4981,  4216,   781,  1991,\n",
       "        1395,  2415,  9354,  1665,  8530,  2351,   987,   716,  3948,\n",
       "        6990,   709,  2313,  1917,  1426,   878,   679,   855,   454,\n",
       "       16955,  1049,  1871,  2755,  1781,  3363,  4130, 11092,  4662,\n",
       "        1264,   765,  5141,  4463,  7655,  5035, 10905,   583,  3084,\n",
       "        3275,   788,  4541,  4873,  2145,  4485,   583,   421,  1637,\n",
       "         827,  1363,  4540,  1076,  2264,  9139,  3734,  1240, 13554,\n",
       "       13334,   502])"
      ]
     },
     "execution_count": 22,
     "metadata": {},
     "output_type": "execute_result"
    }
   ],
   "source": [
    "y_test"
   ]
  },
  {
   "cell_type": "code",
   "execution_count": 23,
   "metadata": {
    "colab": {
     "base_uri": "https://localhost:8080/",
     "height": 34
    },
    "colab_type": "code",
    "executionInfo": {
     "elapsed": 354,
     "status": "ok",
     "timestamp": 1565171825347,
     "user": {
      "displayName": "42 45",
      "photoUrl": "",
      "userId": "09640643992277259906"
     },
     "user_tz": -540
    },
    "id": "EdElP_T8i3pH",
    "outputId": "bc75b123-96f0-4af4-d650-c2afd2f655ba"
   },
   "outputs": [
    {
     "data": {
      "text/plain": [
       "(200,)"
      ]
     },
     "execution_count": 23,
     "metadata": {},
     "output_type": "execute_result"
    }
   ],
   "source": [
    "y_test.shape"
   ]
  },
  {
   "cell_type": "markdown",
   "metadata": {
    "colab_type": "text",
    "id": "j78b8kFo5KaA"
   },
   "source": [
    "### defining classifyer"
   ]
  },
  {
   "cell_type": "code",
   "execution_count": 24,
   "metadata": {
    "colab": {},
    "colab_type": "code",
    "id": "97xNLl3z5Zfu"
   },
   "outputs": [],
   "source": [
    "clf = svm.SVR(kernel='linear')"
   ]
  },
  {
   "cell_type": "markdown",
   "metadata": {
    "colab_type": "text",
    "id": "b0yHeeV_55P7"
   },
   "source": [
    "### fitting(training)"
   ]
  },
  {
   "cell_type": "code",
   "execution_count": 25,
   "metadata": {
    "colab": {
     "base_uri": "https://localhost:8080/",
     "height": 68
    },
    "colab_type": "code",
    "executionInfo": {
     "elapsed": 139474,
     "status": "ok",
     "timestamp": 1565171965334,
     "user": {
      "displayName": "42 45",
      "photoUrl": "",
      "userId": "09640643992277259906"
     },
     "user_tz": -540
    },
    "id": "WdC3L-Xd5g2X",
    "outputId": "635923ba-4fc8-4f5c-f7a4-310272bdc731"
   },
   "outputs": [
    {
     "data": {
      "text/plain": [
       "SVR(C=1.0, cache_size=200, coef0=0.0, degree=3, epsilon=0.1,\n",
       "  gamma='auto_deprecated', kernel='linear', max_iter=-1, shrinking=True,\n",
       "  tol=0.001, verbose=False)"
      ]
     },
     "execution_count": 25,
     "metadata": {},
     "output_type": "execute_result"
    }
   ],
   "source": [
    "clf.fit(X_train, y_train)"
   ]
  },
  {
   "cell_type": "markdown",
   "metadata": {
    "colab_type": "text",
    "id": "VxeCBVOf6KLI"
   },
   "source": [
    "### score; 0 is bad, 1 is good"
   ]
  },
  {
   "cell_type": "code",
   "execution_count": 26,
   "metadata": {
    "colab": {
     "base_uri": "https://localhost:8080/",
     "height": 34
    },
    "colab_type": "code",
    "executionInfo": {
     "elapsed": 139050,
     "status": "ok",
     "timestamp": 1565171965334,
     "user": {
      "displayName": "42 45",
      "photoUrl": "",
      "userId": "09640643992277259906"
     },
     "user_tz": -540
    },
    "id": "N7NPhH0i5-Ee",
    "outputId": "5dee3f7f-45ee-499c-e271-c62419607b33"
   },
   "outputs": [
    {
     "data": {
      "text/plain": [
       "0.8352477773999075"
      ]
     },
     "execution_count": 26,
     "metadata": {},
     "output_type": "execute_result"
    }
   ],
   "source": [
    "clf.score(X_test, y_test)"
   ]
  },
  {
   "cell_type": "markdown",
   "metadata": {
    "colab_type": "text",
    "id": "j7kNAOiK9YjV"
   },
   "source": [
    "### printing actual prediction"
   ]
  },
  {
   "cell_type": "markdown",
   "metadata": {
    "colab_type": "text",
    "id": "Y8_9fnop9Cfl"
   },
   "source": [
    "[stack overflow](https://stackoverflow.com/questions/47583259/typeerror-zip-object-is-not-callable-in-python-3-x)"
   ]
  },
  {
   "cell_type": "code",
   "execution_count": 28,
   "metadata": {
    "colab": {
     "base_uri": "https://localhost:8080/",
     "height": 1000
    },
    "colab_type": "code",
    "executionInfo": {
     "elapsed": 138391,
     "status": "ok",
     "timestamp": 1565171965537,
     "user": {
      "displayName": "42 45",
      "photoUrl": "",
      "userId": "09640643992277259906"
     },
     "user_tz": -540
    },
    "id": "4snGKwAB7OTQ",
    "outputId": "954d5ec3-9c96-4cff-8649-d632e843576f"
   },
   "outputs": [
    {
     "name": "stdout",
     "output_type": "stream",
     "text": [
      "Model: 1028.3703563519211, Actual: 827\n",
      "Model: 2956.1965773950255, Actual: 2728\n",
      "Model: 4306.8625152456025, Actual: 4566\n",
      "Model: 1405.426113106731, Actual: 1343\n",
      "Model: 11347.729363355142, Actual: 16232\n",
      "Model: 1137.027986016236, Actual: 826\n",
      "Model: 2494.491689207516, Actual: 1979\n",
      "Model: 9610.269548297052, Actual: 10993\n",
      "Model: 921.925536759185, Actual: 1008\n",
      "Model: -44.015009334172646, Actual: 544\n",
      "Model: 3251.3632057082878, Actual: 3219\n",
      "Model: 377.2941163853561, Actual: 472\n",
      "Model: 1257.7485632139947, Actual: 1031\n",
      "Model: 1435.6306199907258, Actual: 1438\n",
      "Model: 18605.197297013714, Actual: 8040\n",
      "Model: 149.00646130353198, Actual: 631\n",
      "Model: 4070.1807180906562, Actual: 3893\n",
      "Model: 4375.911400228481, Actual: 4470\n",
      "Model: 4865.792759496645, Actual: 5279\n",
      "Model: 2290.315824349196, Actual: 2041\n",
      "Model: 2193.1683589942504, Actual: 1906\n",
      "Model: 9721.05483700602, Actual: 16297\n",
      "Model: 1786.4319695666838, Actual: 1229\n",
      "Model: 8679.83386949282, Actual: 11713\n",
      "Model: 1360.6170487180566, Actual: 1240\n",
      "Model: 2325.192489376005, Actual: 1905\n",
      "Model: -56.69023684212516, Actual: 628\n",
      "Model: 979.7341524536778, Actual: 1235\n",
      "Model: 2.6983324555985746, Actual: 698\n",
      "Model: 1869.6859949674235, Actual: 1259\n",
      "Model: 4921.698328684959, Actual: 4900\n",
      "Model: 1769.3007604235481, Actual: 1183\n",
      "Model: 6079.833790971194, Actual: 6230\n",
      "Model: 9874.06780923462, Actual: 12931\n",
      "Model: 6058.672633284128, Actual: 5510\n",
      "Model: 287.3827827259288, Actual: 492\n",
      "Model: 9840.176119712647, Actual: 11843\n",
      "Model: 2280.0223850074917, Actual: 2206\n",
      "Model: 15232.868525345224, Actual: 16715\n",
      "Model: -441.88023379051947, Actual: 433\n",
      "Model: 402.3714798327783, Actual: 872\n",
      "Model: 1039.925391429037, Actual: 993\n",
      "Model: 2911.7068977821573, Actual: 2872\n",
      "Model: 9090.069532999338, Actual: 15581\n",
      "Model: 2644.8208862362235, Actual: 2569\n",
      "Model: 6601.934170282957, Actual: 6785\n",
      "Model: 438.0751792913338, Actual: 616\n",
      "Model: -317.5164667127792, Actual: 574\n",
      "Model: 1159.3014303749205, Actual: 1018\n",
      "Model: 6211.998217279703, Actual: 5183\n",
      "Model: 2431.3706504333895, Actual: 2075\n",
      "Model: 1160.27525100401, Actual: 1076\n",
      "Model: 1488.4990451405906, Actual: 1454\n",
      "Model: 2345.4099187880083, Actual: 2192\n",
      "Model: 11554.85913528565, Actual: 12229\n",
      "Model: 5079.23354915048, Actual: 5167\n",
      "Model: 526.587404286619, Actual: 706\n",
      "Model: 9880.664330427997, Actual: 18102\n",
      "Model: 1070.5115766912973, Actual: 902\n",
      "Model: -226.92684241374445, Actual: 507\n",
      "Model: 4739.907338936042, Actual: 4672\n",
      "Model: 9571.795570022638, Actual: 9165\n",
      "Model: 6721.772303828038, Actual: 11946\n",
      "Model: 1787.1090349208985, Actual: 1257\n",
      "Model: 2844.9193299092226, Actual: 2780\n",
      "Model: 1338.7606952468504, Actual: 1105\n",
      "Model: 141.0629030373343, Actual: 581\n",
      "Model: 2970.3979660497353, Actual: 2693\n",
      "Model: 5333.667939663858, Actual: 4673\n",
      "Model: 11772.81655733093, Actual: 13132\n",
      "Model: 4846.714995786276, Actual: 5050\n",
      "Model: 2761.34335294212, Actual: 1866\n",
      "Model: 9785.667146579242, Actual: 9777\n",
      "Model: 1510.1469224106277, Actual: 1237\n",
      "Model: 3250.7437743716046, Actual: 3052\n",
      "Model: 8664.00226659935, Actual: 12872\n",
      "Model: 2770.841112657276, Actual: 3378\n",
      "Model: 9850.675529351327, Actual: 11360\n",
      "Model: 524.6121417148074, Actual: 885\n",
      "Model: 3213.6927633010505, Actual: 3096\n",
      "Model: -560.6997225023906, Actual: 402\n",
      "Model: 1414.757344162991, Actual: 1574\n",
      "Model: 2481.024018017455, Actual: 2288\n",
      "Model: 12960.628766499874, Actual: 18528\n",
      "Model: 1964.7121244172693, Actual: 1679\n",
      "Model: 68.97516800990252, Actual: 522\n",
      "Model: 7263.238594033801, Actual: 10082\n",
      "Model: 4786.759514977474, Actual: 4118\n",
      "Model: 986.397569163747, Actual: 642\n",
      "Model: 3749.9412897476263, Actual: 4015\n",
      "Model: 4149.6296209443, Actual: 3288\n",
      "Model: 5794.7253480546005, Actual: 5378\n",
      "Model: 4778.932133936828, Actual: 4606\n",
      "Model: 2750.290672289535, Actual: 2585\n",
      "Model: 1487.285483068359, Actual: 953\n",
      "Model: 2047.259245325255, Actual: 1822\n",
      "Model: 3726.647949730262, Actual: 3332\n",
      "Model: 831.837300936168, Actual: 1046\n",
      "Model: 91.45637044559544, Actual: 460\n",
      "Model: 984.0190345323372, Actual: 1050\n",
      "Model: 428.40459231841896, Actual: 829\n",
      "Model: 1308.7821993333118, Actual: 914\n",
      "Model: 1000.7508862851455, Actual: 899\n",
      "Model: -204.04817457725358, Actual: 469\n",
      "Model: 12902.375293561716, Actual: 13006\n",
      "Model: 125.23038592443163, Actual: 551\n",
      "Model: 704.3771719290962, Actual: 827\n",
      "Model: 524.8840740060741, Actual: 956\n",
      "Model: 1747.618355284519, Actual: 1295\n",
      "Model: 2598.8011164995464, Actual: 2309\n",
      "Model: 4242.174722202241, Actual: 3910\n",
      "Model: 7508.0305420603345, Actual: 11580\n",
      "Model: 18432.100880389124, Actual: 10863\n",
      "Model: 1429.7742991884538, Actual: 1080\n",
      "Model: 558.0091640516612, Actual: 942\n",
      "Model: 6889.551514282182, Actual: 10439\n",
      "Model: 3240.747826057207, Actual: 2340\n",
      "Model: 4030.6547645204514, Actual: 3082\n",
      "Model: 892.7128700602675, Actual: 730\n",
      "Model: 2234.8463739752647, Actual: 1845\n",
      "Model: 1369.0626765570241, Actual: 1375\n",
      "Model: 7040.874663243141, Actual: 9009\n",
      "Model: 13854.648760448374, Actual: 11970\n",
      "Model: 201.4335984510817, Actual: 756\n",
      "Model: 2191.405769561824, Actual: 1998\n",
      "Model: 471.43561199405394, Actual: 702\n",
      "Model: 835.6490675234909, Actual: 969\n",
      "Model: 729.3941945706542, Actual: 746\n",
      "Model: 3096.2506207736624, Actual: 2760\n",
      "Model: 295.0034928040318, Actual: 624\n",
      "Model: 1299.8923344692807, Actual: 1052\n",
      "Model: 2129.8788117829477, Actual: 2160\n",
      "Model: 1286.8439914237906, Actual: 1293\n",
      "Model: 6792.56920140185, Actual: 5251\n",
      "Model: 3302.0619528474813, Actual: 3016\n",
      "Model: 2128.578465019112, Actual: 1651\n",
      "Model: 362.1686121859602, Actual: 458\n",
      "Model: 9866.785096333067, Actual: 11969\n",
      "Model: 5819.915723340397, Actual: 5578\n",
      "Model: 3598.1756255301652, Actual: 2956\n",
      "Model: 4581.44482106384, Actual: 4981\n",
      "Model: 3377.0666545592494, Actual: 4216\n",
      "Model: 542.3135886862633, Actual: 781\n",
      "Model: 2280.4825506269754, Actual: 1991\n",
      "Model: 1480.9803244954992, Actual: 1395\n",
      "Model: 2498.723193584985, Actual: 2415\n",
      "Model: 5713.077980196898, Actual: 9354\n",
      "Model: 1860.2662538985217, Actual: 1665\n",
      "Model: 7063.514073730914, Actual: 8530\n",
      "Model: 2443.422111308695, Actual: 2351\n",
      "Model: 1584.9272866841175, Actual: 987\n",
      "Model: 535.6631223933273, Actual: 716\n",
      "Model: 4362.460721977737, Actual: 3948\n",
      "Model: 8811.144253463022, Actual: 6990\n",
      "Model: 214.5829777756776, Actual: 709\n",
      "Model: 2528.2595172165647, Actual: 2313\n",
      "Model: 2049.713701048054, Actual: 1917\n",
      "Model: 1364.0203883908775, Actual: 1426\n",
      "Model: 567.5226418923335, Actual: 878\n",
      "Model: 501.94920662209597, Actual: 679\n",
      "Model: 577.066175402545, Actual: 855\n",
      "Model: -95.84166529518507, Actual: 454\n",
      "Model: 15722.575638020084, Actual: 16955\n",
      "Model: 1304.5729472475214, Actual: 1049\n",
      "Model: 1948.9905842595558, Actual: 1871\n",
      "Model: 2999.6828700270044, Actual: 2755\n",
      "Model: 1830.2843195493788, Actual: 1781\n",
      "Model: 3948.421185758156, Actual: 3363\n",
      "Model: 4779.195937810357, Actual: 4130\n",
      "Model: 8435.265751308192, Actual: 11092\n",
      "Model: 5061.5195272815, Actual: 4662\n",
      "Model: 1740.2904361070348, Actual: 1264\n",
      "Model: -2.1408497491070193, Actual: 765\n",
      "Model: 4468.400387045736, Actual: 5141\n",
      "Model: 4281.834719489348, Actual: 4463\n",
      "Model: 6941.928346286611, Actual: 7655\n",
      "Model: 5487.53807634843, Actual: 5035\n",
      "Model: 8893.299335151949, Actual: 10905\n",
      "Model: 269.92660240255964, Actual: 583\n",
      "Model: 3938.586474432473, Actual: 3084\n",
      "Model: 3486.878282889697, Actual: 3275\n",
      "Model: 544.3069192808825, Actual: 788\n",
      "Model: 4770.8557582761305, Actual: 4541\n",
      "Model: 5096.290944149265, Actual: 4873\n",
      "Model: 3175.9013867116837, Actual: 2145\n",
      "Model: 5274.309417556404, Actual: 4485\n",
      "Model: 165.52065239988042, Actual: 583\n",
      "Model: -576.9824711494575, Actual: 421\n",
      "Model: 1521.43528556122, Actual: 1637\n",
      "Model: 888.7541298388537, Actual: 827\n",
      "Model: 1551.9050147357596, Actual: 1363\n",
      "Model: 4786.395948711807, Actual: 4540\n",
      "Model: 1209.268282070068, Actual: 1076\n",
      "Model: 2588.591122213301, Actual: 2264\n",
      "Model: 7138.174253562724, Actual: 9139\n",
      "Model: 5042.404590107419, Actual: 3734\n",
      "Model: 1156.1567632591637, Actual: 1240\n",
      "Model: 11778.99514610569, Actual: 13554\n",
      "Model: 8655.953782157365, Actual: 13334\n",
      "Model: 66.7032661786534, Actual: 502\n"
     ]
    }
   ],
   "source": [
    "for X,y in zip(X_test, y_test):\n",
    "  print(f'Model: {clf.predict([X])[0]}, Actual: {y}')"
   ]
  },
  {
   "cell_type": "markdown",
   "metadata": {
    "colab_type": "text",
    "id": "ciNAAyO_-3Ny"
   },
   "source": [
    "despite of having high score, our model sometime predict negative price (not goot prediction).\n",
    "\n",
    "to improve the prediction, we can try other models"
   ]
  },
  {
   "cell_type": "code",
   "execution_count": 29,
   "metadata": {
    "colab": {
     "base_uri": "https://localhost:8080/",
     "height": 71
    },
    "colab_type": "code",
    "id": "tt1SlCxP-ADG",
    "outputId": "3579bb16-b214-41ba-a740-fbf091c7b2fb"
   },
   "outputs": [
    {
     "name": "stderr",
     "output_type": "stream",
     "text": [
      "/Users/42t43/anaconda3/envs/tensorflow17/lib/python3.6/site-packages/sklearn/svm/base.py:196: FutureWarning: The default value of gamma will change from 'auto' to 'scale' in version 0.22 to account better for unscaled features. Set gamma explicitly to 'auto' or 'scale' to avoid this warning.\n",
      "  \"avoid this warning.\", FutureWarning)\n"
     ]
    },
    {
     "data": {
      "text/plain": [
       "0.5850129729719094"
      ]
     },
     "execution_count": 29,
     "metadata": {},
     "output_type": "execute_result"
    }
   ],
   "source": [
    "clf = svm.SVR(kernel='rbf')\n",
    "clf.fit(X_train, y_train)\n",
    "clf.score(X_test, y_test)"
   ]
  },
  {
   "cell_type": "code",
   "execution_count": 30,
   "metadata": {
    "colab": {},
    "colab_type": "code",
    "id": "xL0Hwi1r_Uj4"
   },
   "outputs": [
    {
     "name": "stdout",
     "output_type": "stream",
     "text": [
      "Model: 1011.0699644926517, Actual: 827\n",
      "Model: 2464.4423393395086, Actual: 2728\n",
      "Model: 3619.812760838816, Actual: 4566\n",
      "Model: 1155.1006749193662, Actual: 1343\n",
      "Model: 7085.168485318277, Actual: 16232\n",
      "Model: 1019.5043732883287, Actual: 826\n",
      "Model: 2149.8618151299725, Actual: 1979\n",
      "Model: 7824.002266206819, Actual: 10993\n",
      "Model: 2297.5115428833337, Actual: 1008\n",
      "Model: 655.741738473354, Actual: 544\n",
      "Model: 3145.566001343646, Actual: 3219\n",
      "Model: 2002.1278919380793, Actual: 472\n",
      "Model: 1050.7609254772028, Actual: 1031\n",
      "Model: 1448.4108338364347, Actual: 1438\n",
      "Model: 4318.910489690464, Actual: 8040\n",
      "Model: 1052.3876135435553, Actual: 631\n",
      "Model: 4229.585600583269, Actual: 3893\n",
      "Model: 4259.9620406198665, Actual: 4470\n",
      "Model: 4465.888390676475, Actual: 5279\n",
      "Model: 1898.7272467224077, Actual: 2041\n",
      "Model: 2207.1086636083346, Actual: 1906\n",
      "Model: 7553.97521540503, Actual: 16297\n",
      "Model: 1462.260303405384, Actual: 1229\n",
      "Model: 5877.932998144541, Actual: 11713\n",
      "Model: 1346.4882360565705, Actual: 1240\n",
      "Model: 2714.077632677763, Actual: 1905\n",
      "Model: 631.238236000539, Actual: 628\n",
      "Model: 1015.0359447200703, Actual: 1235\n",
      "Model: 391.46710522196827, Actual: 698\n",
      "Model: 1453.0150115642166, Actual: 1259\n",
      "Model: 4798.475128059932, Actual: 4900\n",
      "Model: 1457.3723108663592, Actual: 1183\n",
      "Model: 5488.999445427218, Actual: 6230\n",
      "Model: 7629.231885626074, Actual: 12931\n",
      "Model: 5811.22110798892, Actual: 5510\n",
      "Model: 1620.6382207212946, Actual: 492\n",
      "Model: 6162.838780825503, Actual: 11843\n",
      "Model: 1799.6242296826656, Actual: 2206\n",
      "Model: 5598.768487211668, Actual: 16715\n",
      "Model: 844.2531213612087, Actual: 433\n",
      "Model: 727.8813774642977, Actual: 872\n",
      "Model: 1186.968712015977, Actual: 993\n",
      "Model: 2791.7828015477266, Actual: 2872\n",
      "Model: 7770.49208099485, Actual: 15581\n",
      "Model: 2595.199521257986, Actual: 2569\n",
      "Model: 6261.309795391182, Actual: 6785\n",
      "Model: 558.4391665759808, Actual: 616\n",
      "Model: 284.33717673575666, Actual: 574\n",
      "Model: 1218.7945451964433, Actual: 1018\n",
      "Model: 6244.782817551872, Actual: 5183\n",
      "Model: 2122.3452827473266, Actual: 2075\n",
      "Model: 761.1817003981923, Actual: 1076\n",
      "Model: 1379.2906743136105, Actual: 1454\n",
      "Model: 2835.177869525878, Actual: 2192\n",
      "Model: 6349.499605600688, Actual: 12229\n",
      "Model: 4428.229317261693, Actual: 5167\n",
      "Model: 569.695372927782, Actual: 706\n",
      "Model: 5551.842098649501, Actual: 18102\n",
      "Model: 812.2993136367995, Actual: 902\n",
      "Model: 1057.917040461155, Actual: 507\n",
      "Model: 4749.572528907663, Actual: 4672\n",
      "Model: 6541.321873525875, Actual: 9165\n",
      "Model: 4819.064115782112, Actual: 11946\n",
      "Model: 1383.8727067375169, Actual: 1257\n",
      "Model: 2706.01019953209, Actual: 2780\n",
      "Model: 1080.336690131046, Actual: 1105\n",
      "Model: 2765.341515663601, Actual: 581\n",
      "Model: 2790.5534646168217, Actual: 2693\n",
      "Model: 5172.420749856608, Actual: 4673\n",
      "Model: 6181.615320088909, Actual: 13132\n",
      "Model: 3863.013944032734, Actual: 5050\n",
      "Model: 2279.892896897015, Actual: 1866\n",
      "Model: 7601.981175807602, Actual: 9777\n",
      "Model: 1377.9339937025047, Actual: 1237\n",
      "Model: 2887.080536913417, Actual: 3052\n",
      "Model: 7753.448924519008, Actual: 12872\n",
      "Model: 2439.8936203929106, Actual: 3378\n",
      "Model: 6993.177826756827, Actual: 11360\n",
      "Model: 1423.0146786171406, Actual: 885\n",
      "Model: 3029.2297910281827, Actual: 3096\n",
      "Model: 1423.2831062317805, Actual: 402\n",
      "Model: 1495.904333848368, Actual: 1574\n",
      "Model: 2030.744403223177, Actual: 2288\n",
      "Model: 6571.572573327465, Actual: 18528\n",
      "Model: 1721.8498837016546, Actual: 1679\n",
      "Model: 1455.2489868753973, Actual: 522\n",
      "Model: 5437.794213000076, Actual: 10082\n",
      "Model: 4773.205872138693, Actual: 4118\n",
      "Model: 1398.8122754417197, Actual: 642\n",
      "Model: 3395.5759926603987, Actual: 4015\n",
      "Model: 3888.6876968553142, Actual: 3288\n",
      "Model: 5422.83388730317, Actual: 5378\n",
      "Model: 3823.8145593531926, Actual: 4606\n",
      "Model: 2295.6206793604465, Actual: 2585\n",
      "Model: 1548.9909423421757, Actual: 953\n",
      "Model: 1800.6095832079034, Actual: 1822\n",
      "Model: 3375.7381472637285, Actual: 3332\n",
      "Model: 1003.1925834292156, Actual: 1046\n",
      "Model: 872.2003703655582, Actual: 460\n",
      "Model: 2068.910032881639, Actual: 1050\n",
      "Model: 821.0390513942416, Actual: 829\n",
      "Model: 1179.3932498210042, Actual: 914\n",
      "Model: 678.9450061632729, Actual: 899\n",
      "Model: 1072.25787485811, Actual: 469\n",
      "Model: 6116.513212703252, Actual: 13006\n",
      "Model: 720.9134845755339, Actual: 551\n",
      "Model: 590.3494392542366, Actual: 827\n",
      "Model: 612.0392720856962, Actual: 956\n",
      "Model: 1325.3885572342901, Actual: 1295\n",
      "Model: 2762.2405018776053, Actual: 2309\n",
      "Model: 4330.969509168563, Actual: 3910\n",
      "Model: 6842.173017866734, Actual: 11580\n",
      "Model: 3504.8710028051073, Actual: 10863\n",
      "Model: 1907.7512619951303, Actual: 1080\n",
      "Model: 943.5537000912695, Actual: 942\n",
      "Model: 6568.020388068271, Actual: 10439\n",
      "Model: 3038.7562994357536, Actual: 2340\n",
      "Model: 3607.7882995208283, Actual: 3082\n",
      "Model: 1236.313114816266, Actual: 730\n",
      "Model: 1949.219400968178, Actual: 1845\n",
      "Model: 1292.1271078207465, Actual: 1375\n",
      "Model: 7319.421436097487, Actual: 9009\n",
      "Model: 5837.808872049012, Actual: 11970\n",
      "Model: 1182.8203698357252, Actual: 756\n",
      "Model: 1747.483416803899, Actual: 1998\n",
      "Model: 740.2312616704535, Actual: 702\n",
      "Model: 998.2808429175552, Actual: 969\n",
      "Model: 855.4617237223551, Actual: 746\n",
      "Model: 2992.6612898885305, Actual: 2760\n",
      "Model: 555.0029322959995, Actual: 624\n",
      "Model: 1171.0943653431068, Actual: 1052\n",
      "Model: 1745.7683831344389, Actual: 2160\n",
      "Model: 1387.1567334282695, Actual: 1293\n",
      "Model: 4093.2528059070546, Actual: 5251\n",
      "Model: 3091.8506035046184, Actual: 3016\n",
      "Model: 2704.9686248388325, Actual: 1651\n",
      "Model: 2456.388990074097, Actual: 458\n",
      "Model: 7576.5856899553355, Actual: 11969\n",
      "Model: 5054.058427303314, Actual: 5578\n",
      "Model: 3325.397948550856, Actual: 2956\n",
      "Model: 4369.712744262226, Actual: 4981\n",
      "Model: 2667.509954577821, Actual: 4216\n",
      "Model: 1119.1337316049185, Actual: 781\n",
      "Model: 2124.4396541956103, Actual: 1991\n",
      "Model: 1301.4864240924198, Actual: 1395\n",
      "Model: 2291.4026684990886, Actual: 2415\n",
      "Model: 5801.74890743483, Actual: 9354\n",
      "Model: 1734.4654584045786, Actual: 1665\n",
      "Model: 7381.796730565275, Actual: 8530\n",
      "Model: 2532.8215570240445, Actual: 2351\n",
      "Model: 1254.1727237216487, Actual: 987\n",
      "Model: 884.3155068782389, Actual: 716\n",
      "Model: 4016.1118811547826, Actual: 3948\n",
      "Model: 6695.72289497609, Actual: 6990\n",
      "Model: 913.689418039553, Actual: 709\n",
      "Model: 2399.7770420169845, Actual: 2313\n",
      "Model: 2068.5191017585475, Actual: 1917\n",
      "Model: 1601.537283743224, Actual: 1426\n",
      "Model: 649.6045567992851, Actual: 878\n",
      "Model: 830.83424943831, Actual: 679\n",
      "Model: 953.9242919186922, Actual: 855\n",
      "Model: 1406.5127417522567, Actual: 454\n",
      "Model: 5480.041247536483, Actual: 16955\n",
      "Model: 1750.6353148864791, Actual: 1049\n",
      "Model: 1701.8184262900088, Actual: 1871\n",
      "Model: 2726.4707308521097, Actual: 2755\n",
      "Model: 1570.8299219734097, Actual: 1781\n",
      "Model: 3492.473921518622, Actual: 3363\n",
      "Model: 4490.895353067648, Actual: 4130\n",
      "Model: 7503.471599987753, Actual: 11092\n",
      "Model: 4859.458605172524, Actual: 4662\n",
      "Model: 1268.4301573320445, Actual: 1264\n",
      "Model: 957.5128792613846, Actual: 765\n",
      "Model: 4642.529381770494, Actual: 5141\n",
      "Model: 4225.645223005633, Actual: 4463\n",
      "Model: 6583.317877058609, Actual: 7655\n",
      "Model: 4911.338262378284, Actual: 5035\n",
      "Model: 6371.447250184955, Actual: 10905\n",
      "Model: 868.3320392533433, Actual: 583\n",
      "Model: 3648.3305336937883, Actual: 3084\n",
      "Model: 3261.5429957289834, Actual: 3275\n",
      "Model: 729.6631281389591, Actual: 788\n",
      "Model: 4042.4246128776103, Actual: 4541\n",
      "Model: 4888.131636307368, Actual: 4873\n",
      "Model: 2906.0059864495593, Actual: 2145\n",
      "Model: 5620.628229835701, Actual: 4485\n",
      "Model: 703.5477172919996, Actual: 583\n",
      "Model: 881.0784156853983, Actual: 421\n",
      "Model: 1311.5516078968776, Actual: 1637\n",
      "Model: 1128.947915110501, Actual: 827\n",
      "Model: 1279.391043869794, Actual: 1363\n",
      "Model: 4410.573465095067, Actual: 4540\n",
      "Model: 1022.0104655698733, Actual: 1076\n",
      "Model: 2727.062861174906, Actual: 2264\n",
      "Model: 6042.980187665855, Actual: 9139\n",
      "Model: 4746.305356019537, Actual: 3734\n",
      "Model: 1118.2375767585468, Actual: 1240\n",
      "Model: 6353.455567484723, Actual: 13554\n",
      "Model: 7169.890318748818, Actual: 13334\n",
      "Model: 821.9736744359075, Actual: 502\n"
     ]
    }
   ],
   "source": [
    "for X,y in zip(X_test, y_test):\n",
    "  print(f'Model: {clf.predict([X])[0]}, Actual: {y}')"
   ]
  },
  {
   "cell_type": "code",
   "execution_count": null,
   "metadata": {},
   "outputs": [],
   "source": []
  }
 ],
 "metadata": {
  "accelerator": "GPU",
  "colab": {
   "collapsed_sections": [
    "lOrq8BoPItlD",
    "qw1SXMvbKQXs"
   ],
   "name": "REG_CSV_Diamond.ipynb",
   "provenance": [
    {
     "file_id": "17NNDIq49Im6unZ5QnxfXwZ03x_1iPSpK",
     "timestamp": 1552538715519
    }
   ],
   "version": "0.3.2"
  },
  "kernelspec": {
   "display_name": "Python 3",
   "language": "python",
   "name": "python3"
  },
  "language_info": {
   "codemirror_mode": {
    "name": "ipython",
    "version": 3
   },
   "file_extension": ".py",
   "mimetype": "text/x-python",
   "name": "python",
   "nbconvert_exporter": "python",
   "pygments_lexer": "ipython3",
   "version": "3.6.8"
  }
 },
 "nbformat": 4,
 "nbformat_minor": 1
}
