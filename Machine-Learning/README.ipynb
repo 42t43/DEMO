{
 "cells": [
  {
   "cell_type": "markdown",
   "metadata": {
    "colab_type": "text",
    "id": "oesnHgb3OPjl"
   },
   "source": [
    "# NOTES"
   ]
  },
  {
   "cell_type": "markdown",
   "metadata": {
    "colab_type": "text",
    "id": "Ky3-CWYLMSe4"
   },
   "source": [
    " The folder called \"DEMO\" contains my works. However, these projects are heaviry based on tutorails, textbooks and web documentation. Although I typed all of these codes, I did not create them from scrach. I was just following and learning someone else who has better knowledge than me. Therefore I should emphasize these incredble people who put all these resources and education free and available for everybody. I will show the list in the next cell."
   ]
  },
  {
   "cell_type": "markdown",
   "metadata": {
    "colab_type": "text",
    "id": "h2Q1TYkXN_0d"
   },
   "source": [
    "# Resources"
   ]
  },
  {
   "cell_type": "markdown",
   "metadata": {
    "colab_type": "text",
    "id": "KnpMsjv1N_xw"
   },
   "source": [
    "### Getting Started with TensorFlow and Deep Learning | SciPy 2018 Tutorial | Josh Gordon [link text](https://www.youtube.com/watch?v=tYYVSEHq-io&t=5s)"
   ]
  },
  {
   "cell_type": "markdown",
   "metadata": {
    "colab_type": "text",
    "id": "0oqMwsHHN_vE"
   },
   "source": [
    "Great intruduction for machine learning using tensorflow explained by developers. This tutorail video containes basic classification, regression, text classification, and overfit/underfit. file \"MNIST\" is based on this tutorial."
   ]
  },
  {
   "cell_type": "markdown",
   "metadata": {
    "colab_type": "text",
    "id": "foIfjMVGN_r9"
   },
   "source": [
    "### Deep Learning with Python, TensorFlow, and Keras tutorial [link text](https://www.youtube.com/watch?v=wQ8BIBpya2k&list=PLQVvvaa0QuDfhTox0AjmQ6tvTgMBZBEXN)"
   ]
  },
  {
   "cell_type": "markdown",
   "metadata": {
    "colab_type": "text",
    "id": "8xzDIwcnYBza"
   },
   "source": [
    "Deep learning tutorial by sendex. He explaines conceput of deep learning and type all codes from scrach to build the entire model. There are tutorial for MNIST, DogvsCat, Bitcoin price. He also provide text based tutorial where you can check all of his codes. Files \"MNIST\", \"DogvsCat\", \"Crypto\" are heaviry based on his tutorial."
   ]
  },
  {
   "cell_type": "markdown",
   "metadata": {
    "colab_type": "text",
    "id": "BlsXwYjcg65t"
   },
   "source": [
    "### Machine Learning with Scikit-learn - Data Analysis with Python and Pandas p.6 [link text](https://www.youtube.com/watch?v=BpPJxtOk8uw)"
   ]
  },
  {
   "cell_type": "markdown",
   "metadata": {
    "colab_type": "text",
    "id": "udcK9EkqYBpp"
   },
   "source": [
    "Tutorial for pandas library by sendex. He teaches basic pandas commands and at the end of tutorial, he also shows how to use pandas for machine learning project. File \"Diamond\" is based on this tutorial."
   ]
  }
 ],
 "metadata": {
  "colab": {
   "collapsed_sections": [],
   "name": "README.ipynb",
   "provenance": [],
   "version": "0.3.2"
  },
  "kernelspec": {
   "display_name": "Python 3",
   "language": "python",
   "name": "python3"
  },
  "language_info": {
   "codemirror_mode": {
    "name": "ipython",
    "version": 3
   },
   "file_extension": ".py",
   "mimetype": "text/x-python",
   "name": "python",
   "nbconvert_exporter": "python",
   "pygments_lexer": "ipython3",
   "version": "3.6.8"
  }
 },
 "nbformat": 4,
 "nbformat_minor": 1
}
